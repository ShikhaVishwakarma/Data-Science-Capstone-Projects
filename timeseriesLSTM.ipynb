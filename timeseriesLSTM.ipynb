{
  "nbformat": 4,
  "nbformat_minor": 0,
  "metadata": {
    "colab": {
      "name": "timeseriesLSTM.ipynb",
      "provenance": [],
      "collapsed_sections": [],
      "authorship_tag": "ABX9TyNiB7SJ/xsRcfeHrz9j0PK4",
      "include_colab_link": true
    },
    "kernelspec": {
      "name": "python3",
      "display_name": "Python 3"
    }
  },
  "cells": [
    {
      "cell_type": "markdown",
      "metadata": {
        "id": "view-in-github",
        "colab_type": "text"
      },
      "source": [
        "<a href=\"https://colab.research.google.com/github/ShikhaVishwakarma/Data-Science-Projects/blob/main/timeseriesLSTM.ipynb\" target=\"_parent\"><img src=\"https://colab.research.google.com/assets/colab-badge.svg\" alt=\"Open In Colab\"/></a>"
      ]
    },
    {
      "cell_type": "code",
      "metadata": {
        "id": "7SwedXsgTFHq"
      },
      "source": [
        "import pandas_datareader as pdr"
      ],
      "execution_count": null,
      "outputs": []
    },
    {
      "cell_type": "code",
      "metadata": {
        "id": "LTunhVp2CcGk",
        "colab": {
          "base_uri": "https://localhost:8080/",
          "height": 918
        },
        "outputId": "d4e0faf5-ebaf-4b26-a72a-951e59f60eb6"
      },
      "source": [
        "!pip install yfinance\n",
        "import yfinance as yf\n",
        "data = yf.download('^BSESN', start = '2016-10-10', end='2021-10-10')\n",
        "data"
      ],
      "execution_count": null,
      "outputs": [
        {
          "output_type": "stream",
          "name": "stdout",
          "text": [
            "Collecting yfinance\n",
            "  Downloading yfinance-0.1.63.tar.gz (26 kB)\n",
            "Requirement already satisfied: pandas>=0.24 in /usr/local/lib/python3.7/dist-packages (from yfinance) (1.1.5)\n",
            "Requirement already satisfied: numpy>=1.15 in /usr/local/lib/python3.7/dist-packages (from yfinance) (1.19.5)\n",
            "Requirement already satisfied: requests>=2.20 in /usr/local/lib/python3.7/dist-packages (from yfinance) (2.23.0)\n",
            "Requirement already satisfied: multitasking>=0.0.7 in /usr/local/lib/python3.7/dist-packages (from yfinance) (0.0.9)\n",
            "Collecting lxml>=4.5.1\n",
            "  Downloading lxml-4.6.3-cp37-cp37m-manylinux2014_x86_64.whl (6.3 MB)\n",
            "\u001b[K     |████████████████████████████████| 6.3 MB 6.3 MB/s \n",
            "\u001b[?25hRequirement already satisfied: pytz>=2017.2 in /usr/local/lib/python3.7/dist-packages (from pandas>=0.24->yfinance) (2018.9)\n",
            "Requirement already satisfied: python-dateutil>=2.7.3 in /usr/local/lib/python3.7/dist-packages (from pandas>=0.24->yfinance) (2.8.2)\n",
            "Requirement already satisfied: six>=1.5 in /usr/local/lib/python3.7/dist-packages (from python-dateutil>=2.7.3->pandas>=0.24->yfinance) (1.15.0)\n",
            "Requirement already satisfied: urllib3!=1.25.0,!=1.25.1,<1.26,>=1.21.1 in /usr/local/lib/python3.7/dist-packages (from requests>=2.20->yfinance) (1.24.3)\n",
            "Requirement already satisfied: certifi>=2017.4.17 in /usr/local/lib/python3.7/dist-packages (from requests>=2.20->yfinance) (2021.5.30)\n",
            "Requirement already satisfied: idna<3,>=2.5 in /usr/local/lib/python3.7/dist-packages (from requests>=2.20->yfinance) (2.10)\n",
            "Requirement already satisfied: chardet<4,>=3.0.2 in /usr/local/lib/python3.7/dist-packages (from requests>=2.20->yfinance) (3.0.4)\n",
            "Building wheels for collected packages: yfinance\n",
            "  Building wheel for yfinance (setup.py) ... \u001b[?25l\u001b[?25hdone\n",
            "  Created wheel for yfinance: filename=yfinance-0.1.63-py2.py3-none-any.whl size=23918 sha256=7eab0aafb02e6c50133f1a2091b606bae02a10fcd1fcdb817600dddb376530a2\n",
            "  Stored in directory: /root/.cache/pip/wheels/fe/87/8b/7ec24486e001d3926537f5f7801f57a74d181be25b11157983\n",
            "Successfully built yfinance\n",
            "Installing collected packages: lxml, yfinance\n",
            "  Attempting uninstall: lxml\n",
            "    Found existing installation: lxml 4.2.6\n",
            "    Uninstalling lxml-4.2.6:\n",
            "      Successfully uninstalled lxml-4.2.6\n",
            "Successfully installed lxml-4.6.3 yfinance-0.1.63\n",
            "[*********************100%***********************]  1 of 1 completed\n"
          ]
        },
        {
          "output_type": "execute_result",
          "data": {
            "text/html": [
              "<div>\n",
              "<style scoped>\n",
              "    .dataframe tbody tr th:only-of-type {\n",
              "        vertical-align: middle;\n",
              "    }\n",
              "\n",
              "    .dataframe tbody tr th {\n",
              "        vertical-align: top;\n",
              "    }\n",
              "\n",
              "    .dataframe thead th {\n",
              "        text-align: right;\n",
              "    }\n",
              "</style>\n",
              "<table border=\"1\" class=\"dataframe\">\n",
              "  <thead>\n",
              "    <tr style=\"text-align: right;\">\n",
              "      <th></th>\n",
              "      <th>Open</th>\n",
              "      <th>High</th>\n",
              "      <th>Low</th>\n",
              "      <th>Close</th>\n",
              "      <th>Adj Close</th>\n",
              "      <th>Volume</th>\n",
              "    </tr>\n",
              "    <tr>\n",
              "      <th>Date</th>\n",
              "      <th></th>\n",
              "      <th></th>\n",
              "      <th></th>\n",
              "      <th></th>\n",
              "      <th></th>\n",
              "      <th></th>\n",
              "    </tr>\n",
              "  </thead>\n",
              "  <tbody>\n",
              "    <tr>\n",
              "      <th>2016-10-10</th>\n",
              "      <td>28144.279297</td>\n",
              "      <td>28216.640625</td>\n",
              "      <td>28068.320312</td>\n",
              "      <td>28082.339844</td>\n",
              "      <td>28082.339844</td>\n",
              "      <td>6900</td>\n",
              "    </tr>\n",
              "    <tr>\n",
              "      <th>2016-10-13</th>\n",
              "      <td>28042.619141</td>\n",
              "      <td>28042.619141</td>\n",
              "      <td>27563.839844</td>\n",
              "      <td>27643.109375</td>\n",
              "      <td>27643.109375</td>\n",
              "      <td>11900</td>\n",
              "    </tr>\n",
              "    <tr>\n",
              "      <th>2016-10-14</th>\n",
              "      <td>27712.220703</td>\n",
              "      <td>27763.539062</td>\n",
              "      <td>27548.179688</td>\n",
              "      <td>27673.599609</td>\n",
              "      <td>27673.599609</td>\n",
              "      <td>14000</td>\n",
              "    </tr>\n",
              "    <tr>\n",
              "      <th>2016-10-17</th>\n",
              "      <td>27776.140625</td>\n",
              "      <td>27803.210938</td>\n",
              "      <td>27488.300781</td>\n",
              "      <td>27529.970703</td>\n",
              "      <td>27529.970703</td>\n",
              "      <td>17100</td>\n",
              "    </tr>\n",
              "    <tr>\n",
              "      <th>2016-10-18</th>\n",
              "      <td>27656.890625</td>\n",
              "      <td>28064.390625</td>\n",
              "      <td>27652.759766</td>\n",
              "      <td>28050.880859</td>\n",
              "      <td>28050.880859</td>\n",
              "      <td>16200</td>\n",
              "    </tr>\n",
              "    <tr>\n",
              "      <th>...</th>\n",
              "      <td>...</td>\n",
              "      <td>...</td>\n",
              "      <td>...</td>\n",
              "      <td>...</td>\n",
              "      <td>...</td>\n",
              "      <td>...</td>\n",
              "    </tr>\n",
              "    <tr>\n",
              "      <th>2021-10-04</th>\n",
              "      <td>59143.000000</td>\n",
              "      <td>59548.820312</td>\n",
              "      <td>58952.109375</td>\n",
              "      <td>59299.320312</td>\n",
              "      <td>59299.320312</td>\n",
              "      <td>10000</td>\n",
              "    </tr>\n",
              "    <tr>\n",
              "      <th>2021-10-05</th>\n",
              "      <td>59320.140625</td>\n",
              "      <td>59778.871094</td>\n",
              "      <td>59127.039062</td>\n",
              "      <td>59744.878906</td>\n",
              "      <td>59744.878906</td>\n",
              "      <td>12900</td>\n",
              "    </tr>\n",
              "    <tr>\n",
              "      <th>2021-10-06</th>\n",
              "      <td>59942.000000</td>\n",
              "      <td>59963.570312</td>\n",
              "      <td>59079.859375</td>\n",
              "      <td>59189.730469</td>\n",
              "      <td>59189.730469</td>\n",
              "      <td>7000</td>\n",
              "    </tr>\n",
              "    <tr>\n",
              "      <th>2021-10-07</th>\n",
              "      <td>59632.808594</td>\n",
              "      <td>59914.910156</td>\n",
              "      <td>59597.058594</td>\n",
              "      <td>59677.828125</td>\n",
              "      <td>59677.828125</td>\n",
              "      <td>5700</td>\n",
              "    </tr>\n",
              "    <tr>\n",
              "      <th>2021-10-08</th>\n",
              "      <td>59960.390625</td>\n",
              "      <td>60212.300781</td>\n",
              "      <td>59830.929688</td>\n",
              "      <td>60059.058594</td>\n",
              "      <td>60059.058594</td>\n",
              "      <td>5700</td>\n",
              "    </tr>\n",
              "  </tbody>\n",
              "</table>\n",
              "<p>1229 rows × 6 columns</p>\n",
              "</div>"
            ],
            "text/plain": [
              "                    Open          High  ...     Adj Close  Volume\n",
              "Date                                    ...                      \n",
              "2016-10-10  28144.279297  28216.640625  ...  28082.339844    6900\n",
              "2016-10-13  28042.619141  28042.619141  ...  27643.109375   11900\n",
              "2016-10-14  27712.220703  27763.539062  ...  27673.599609   14000\n",
              "2016-10-17  27776.140625  27803.210938  ...  27529.970703   17100\n",
              "2016-10-18  27656.890625  28064.390625  ...  28050.880859   16200\n",
              "...                  ...           ...  ...           ...     ...\n",
              "2021-10-04  59143.000000  59548.820312  ...  59299.320312   10000\n",
              "2021-10-05  59320.140625  59778.871094  ...  59744.878906   12900\n",
              "2021-10-06  59942.000000  59963.570312  ...  59189.730469    7000\n",
              "2021-10-07  59632.808594  59914.910156  ...  59677.828125    5700\n",
              "2021-10-08  59960.390625  60212.300781  ...  60059.058594    5700\n",
              "\n",
              "[1229 rows x 6 columns]"
            ]
          },
          "metadata": {},
          "execution_count": 2
        }
      ]
    },
    {
      "cell_type": "code",
      "metadata": {
        "colab": {
          "base_uri": "https://localhost:8080/"
        },
        "id": "pP7BjhfjMTO1",
        "outputId": "8172e696-6830-4e26-baac-b57541dae46d"
      },
      "source": [
        "print(data.columns)"
      ],
      "execution_count": null,
      "outputs": [
        {
          "output_type": "stream",
          "name": "stdout",
          "text": [
            "Index(['Open', 'High', 'Low', 'Close', 'Adj Close', 'Volume'], dtype='object')\n"
          ]
        }
      ]
    },
    {
      "cell_type": "code",
      "metadata": {
        "id": "k9pj1Ou0g5d-",
        "colab": {
          "base_uri": "https://localhost:8080/"
        },
        "outputId": "65466f17-e77e-4591-85ef-bf50aa9bc32e"
      },
      "source": [
        "data=data.reset_index()['Close']\n",
        "data"
      ],
      "execution_count": null,
      "outputs": [
        {
          "output_type": "execute_result",
          "data": {
            "text/plain": [
              "0       28082.339844\n",
              "1       27643.109375\n",
              "2       27673.599609\n",
              "3       27529.970703\n",
              "4       28050.880859\n",
              "            ...     \n",
              "1224    59299.320312\n",
              "1225    59744.878906\n",
              "1226    59189.730469\n",
              "1227    59677.828125\n",
              "1228    60059.058594\n",
              "Name: Close, Length: 1229, dtype: float64"
            ]
          },
          "metadata": {},
          "execution_count": 4
        }
      ]
    },
    {
      "cell_type": "code",
      "metadata": {
        "id": "iM_d6EqThHKE",
        "colab": {
          "base_uri": "https://localhost:8080/",
          "height": 296
        },
        "outputId": "6ebbc04e-fe25-4ea6-dbf8-3ad5763e0f44"
      },
      "source": [
        "import matplotlib.pyplot as plt\n",
        "plt.plot(data)\n",
        "plt.xlabel('Days')\n",
        "plt.ylabel('Close price')"
      ],
      "execution_count": null,
      "outputs": [
        {
          "output_type": "execute_result",
          "data": {
            "text/plain": [
              "Text(0, 0.5, 'Close price')"
            ]
          },
          "metadata": {},
          "execution_count": 5
        },
        {
          "output_type": "display_data",
          "data": {
            "image/png": "[encoded data removed]",
            "text/plain": [
              "<Figure size 432x288 with 1 Axes>"
            ]
          },
          "metadata": {
            "needs_background": "light"
          }
        }
      ]
    },
    {
      "cell_type": "code",
      "metadata": {
        "id": "bFwDtXb0haPV",
        "colab": {
          "base_uri": "https://localhost:8080/"
        },
        "outputId": "d667be0b-52ab-489c-fc65-a9b10612b01b"
      },
      "source": [
        "#LSTM is sensitive to scale of the data\n",
        "import numpy as np\n",
        "from sklearn.preprocessing import MinMaxScaler\n",
        "scaler=MinMaxScaler(feature_range=(0,1))\n",
        "data=scaler.fit_transform(np.array(data).reshape(-1,1))\n",
        "print(data)"
      ],
      "execution_count": null,
      "outputs": [
        {
          "output_type": "stream",
          "name": "stdout",
          "text": [
            "[[0.06753175]\n",
            " [0.05473095]\n",
            " [0.05561955]\n",
            " ...\n",
            " [0.97411607]\n",
            " [0.98834104]\n",
            " [0.99945151]]\n"
          ]
        }
      ]
    },
    {
      "cell_type": "code",
      "metadata": {
        "id": "iDGwFePyjE78"
      },
      "source": [
        "training_size=int(len(data)*0.75)\n",
        "test_size=len(data)-training_size\n",
        "train_data,test_data=data[0:training_size,:],data[training_size:len(data),:1]\n"
      ],
      "execution_count": null,
      "outputs": []
    },
    {
      "cell_type": "code",
      "metadata": {
        "id": "th1T0T1bUDdo",
        "colab": {
          "base_uri": "https://localhost:8080/"
        },
        "outputId": "d6cc92ee-cf45-4223-cc2b-84ac527b2bbb"
      },
      "source": [
        "training_size,test_size"
      ],
      "execution_count": null,
      "outputs": [
        {
          "output_type": "execute_result",
          "data": {
            "text/plain": [
              "(921, 308)"
            ]
          },
          "metadata": {},
          "execution_count": 8
        }
      ]
    },
    {
      "cell_type": "code",
      "metadata": {
        "id": "CYMMjergkL60"
      },
      "source": [
        "#convert an array of values into a dataset matrix\n",
        "def create_dataset(dataset,time_step):\n",
        "  dataX,dataY=[],[]\n",
        "  for i in range(len(dataset)-time_step-1):    #i=0   0,1,2,3...99(x_train)   100(y_train)  if time_step=100  \n",
        "    a = dataset[i:(i+time_step),0]\n",
        "    dataX.append(a)\n",
        "    dataY.append(dataset[i+time_step,0])\n",
        "  return np.array(dataX),np.array(dataY)\n",
        "\n",
        "\n"
      ],
      "execution_count": null,
      "outputs": []
    },
    {
      "cell_type": "code",
      "metadata": {
        "id": "IMNCTZgdmbkp"
      },
      "source": [
        "#reshape into X=t,t+1,t+2,t+3,...t+99 and Y=t+100\n",
        "time_step=100\n",
        "X_train,y_train=create_dataset(train_data,time_step)\n",
        "X_test,y_test=create_dataset(test_data,time_step)\n",
        "\n"
      ],
      "execution_count": null,
      "outputs": []
    },
    {
      "cell_type": "code",
      "metadata": {
        "id": "NBVQteuJUbHf",
        "colab": {
          "base_uri": "https://localhost:8080/"
        },
        "outputId": "8c6d8151-9332-4103-88e9-e5752a2824bc"
      },
      "source": [
        "X_train.shape,y_train.shape"
      ],
      "execution_count": null,
      "outputs": [
        {
          "output_type": "execute_result",
          "data": {
            "text/plain": [
              "((820, 100), (820,))"
            ]
          },
          "metadata": {},
          "execution_count": 11
        }
      ]
    },
    {
      "cell_type": "code",
      "metadata": {
        "id": "-elAa4pJUmjV",
        "colab": {
          "base_uri": "https://localhost:8080/"
        },
        "outputId": "3c90d27a-0f0a-43e5-e56a-79eb24390304"
      },
      "source": [
        "X_test.shape,y_test.shape"
      ],
      "execution_count": null,
      "outputs": [
        {
          "output_type": "execute_result",
          "data": {
            "text/plain": [
              "((207, 100), (207,))"
            ]
          },
          "metadata": {},
          "execution_count": 12
        }
      ]
    },
    {
      "cell_type": "code",
      "metadata": {
        "id": "6QinPqPunpcX"
      },
      "source": [
        "#reshape dim of input from 2d to 3d as required for lstm[sample,time_step,features]\n",
        "X_train=X_train.reshape(X_train.shape[0],X_train.shape[1],1)\n",
        "X_test=X_test.reshape(X_test.shape[0],X_test.shape[1],1)\n",
        "\n"
      ],
      "execution_count": null,
      "outputs": []
    },
    {
      "cell_type": "code",
      "metadata": {
        "id": "slDmW3hRVLWX",
        "colab": {
          "base_uri": "https://localhost:8080/"
        },
        "outputId": "10c3838e-df00-4b47-e729-04825e6c4ec3"
      },
      "source": [
        "X_train.shape,X_test.shape"
      ],
      "execution_count": null,
      "outputs": [
        {
          "output_type": "execute_result",
          "data": {
            "text/plain": [
              "((820, 100, 1), (207, 100, 1))"
            ]
          },
          "metadata": {},
          "execution_count": 14
        }
      ]
    },
    {
      "cell_type": "code",
      "metadata": {
        "id": "CDlrKVISoiXy"
      },
      "source": [
        "#create the stacked lstm model(more than one hidden layer)\n",
        "from tensorflow.keras.models import Sequential\n",
        "from tensorflow.keras.layers import Dense\n",
        "from tensorflow.keras.layers import LSTM\n"
      ],
      "execution_count": null,
      "outputs": []
    },
    {
      "cell_type": "code",
      "metadata": {
        "id": "pb-SMzS0yC77",
        "colab": {
          "base_uri": "https://localhost:8080/"
        },
        "outputId": "821aedbf-3df7-433f-de8a-f8d94f7dd8ae"
      },
      "source": [
        "model=Sequential()\n",
        "model.add(LSTM(50,return_sequences=True,input_shape=(100,1)))\n",
        "model.add(LSTM(50,return_sequences=True))\n",
        "model.add(LSTM(50))\n",
        "model.add(Dense(1))\n",
        "model.compile(loss='mean_squared_error',optimizer='adam')\n",
        "model.summary()"
      ],
      "execution_count": null,
      "outputs": [
        {
          "output_type": "stream",
          "name": "stdout",
          "text": [
            "Model: \"sequential\"\n",
            "_________________________________________________________________\n",
            "Layer (type)                 Output Shape              Param #   \n",
            "=================================================================\n",
            "lstm (LSTM)                  (None, 100, 50)           10400     \n",
            "_________________________________________________________________\n",
            "lstm_1 (LSTM)                (None, 100, 50)           20200     \n",
            "_________________________________________________________________\n",
            "lstm_2 (LSTM)                (None, 50)                20200     \n",
            "_________________________________________________________________\n",
            "dense (Dense)                (None, 1)                 51        \n",
            "=================================================================\n",
            "Total params: 50,851\n",
            "Trainable params: 50,851\n",
            "Non-trainable params: 0\n",
            "_________________________________________________________________\n"
          ]
        }
      ]
    },
    {
      "cell_type": "code",
      "metadata": {
        "id": "mbxLklEaQ-iw",
        "colab": {
          "base_uri": "https://localhost:8080/"
        },
        "outputId": "1a5a053c-566b-4906-8813-1589ff3da148"
      },
      "source": [
        "model.fit(X_train,y_train,validation_data=(X_test,y_test),epochs=100,batch_size=41,verbose=1)"
      ],
      "execution_count": null,
      "outputs": [
        {
          "output_type": "stream",
          "name": "stdout",
          "text": [
            "Epoch 1/100\n",
            "20/20 [==============================] - 8s 203ms/step - loss: 0.0153 - val_loss: 0.0541\n",
            "Epoch 2/100\n",
            "20/20 [==============================] - 3s 137ms/step - loss: 0.0030 - val_loss: 0.0348\n",
            "Epoch 3/100\n",
            "20/20 [==============================] - 3s 135ms/step - loss: 0.0019 - val_loss: 0.0131\n",
            "Epoch 4/100\n",
            "20/20 [==============================] - 3s 135ms/step - loss: 0.0015 - val_loss: 0.0051\n",
            "Epoch 5/100\n",
            "20/20 [==============================] - 3s 138ms/step - loss: 0.0014 - val_loss: 0.0092\n",
            "Epoch 6/100\n",
            "20/20 [==============================] - 3s 135ms/step - loss: 0.0013 - val_loss: 0.0049\n",
            "Epoch 7/100\n",
            "20/20 [==============================] - 3s 135ms/step - loss: 0.0012 - val_loss: 0.0027\n",
            "Epoch 8/100\n",
            "20/20 [==============================] - 3s 135ms/step - loss: 0.0012 - val_loss: 0.0038\n",
            "Epoch 9/100\n",
            "20/20 [==============================] - 3s 136ms/step - loss: 9.8899e-04 - val_loss: 0.0016\n",
            "Epoch 10/100\n",
            "20/20 [==============================] - 3s 137ms/step - loss: 0.0011 - val_loss: 0.0105\n",
            "Epoch 11/100\n",
            "20/20 [==============================] - 3s 134ms/step - loss: 9.6954e-04 - val_loss: 0.0091\n",
            "Epoch 12/100\n",
            "20/20 [==============================] - 3s 136ms/step - loss: 8.4414e-04 - val_loss: 0.0061\n",
            "Epoch 13/100\n",
            "20/20 [==============================] - 3s 139ms/step - loss: 7.8180e-04 - val_loss: 0.0015\n",
            "Epoch 14/100\n",
            "20/20 [==============================] - 3s 138ms/step - loss: 8.7484e-04 - val_loss: 0.0012\n",
            "Epoch 15/100\n",
            "20/20 [==============================] - 3s 136ms/step - loss: 7.0641e-04 - val_loss: 0.0019\n",
            "Epoch 16/100\n",
            "20/20 [==============================] - 3s 137ms/step - loss: 6.5869e-04 - val_loss: 0.0033\n",
            "Epoch 17/100\n",
            "20/20 [==============================] - 3s 133ms/step - loss: 6.3633e-04 - val_loss: 0.0016\n",
            "Epoch 18/100\n",
            "20/20 [==============================] - 3s 136ms/step - loss: 6.0067e-04 - val_loss: 0.0016\n",
            "Epoch 19/100\n",
            "20/20 [==============================] - 3s 135ms/step - loss: 5.7807e-04 - val_loss: 0.0010\n",
            "Epoch 20/100\n",
            "20/20 [==============================] - 3s 136ms/step - loss: 6.2141e-04 - val_loss: 0.0035\n",
            "Epoch 21/100\n",
            "20/20 [==============================] - 3s 135ms/step - loss: 5.6620e-04 - val_loss: 0.0025\n",
            "Epoch 22/100\n",
            "20/20 [==============================] - 3s 136ms/step - loss: 5.1198e-04 - val_loss: 0.0041\n",
            "Epoch 23/100\n",
            "20/20 [==============================] - 3s 131ms/step - loss: 5.0211e-04 - val_loss: 0.0032\n",
            "Epoch 24/100\n",
            "20/20 [==============================] - 3s 135ms/step - loss: 4.8296e-04 - val_loss: 0.0045\n",
            "Epoch 25/100\n",
            "20/20 [==============================] - 3s 136ms/step - loss: 5.1832e-04 - val_loss: 0.0043\n",
            "Epoch 26/100\n",
            "20/20 [==============================] - 3s 138ms/step - loss: 4.4969e-04 - val_loss: 0.0013\n",
            "Epoch 27/100\n",
            "20/20 [==============================] - 3s 136ms/step - loss: 4.7096e-04 - val_loss: 0.0127\n",
            "Epoch 28/100\n",
            "20/20 [==============================] - 3s 136ms/step - loss: 4.3988e-04 - val_loss: 0.0042\n",
            "Epoch 29/100\n",
            "20/20 [==============================] - 3s 136ms/step - loss: 4.5145e-04 - val_loss: 0.0029\n",
            "Epoch 30/100\n",
            "20/20 [==============================] - 3s 136ms/step - loss: 4.6787e-04 - val_loss: 0.0242\n",
            "Epoch 31/100\n",
            "20/20 [==============================] - 3s 135ms/step - loss: 4.0587e-04 - val_loss: 0.0040\n",
            "Epoch 32/100\n",
            "20/20 [==============================] - 3s 135ms/step - loss: 4.3178e-04 - val_loss: 0.0180\n",
            "Epoch 33/100\n",
            "20/20 [==============================] - 3s 134ms/step - loss: 3.8597e-04 - val_loss: 0.0051\n",
            "Epoch 34/100\n",
            "20/20 [==============================] - 3s 135ms/step - loss: 4.1094e-04 - val_loss: 0.0319\n",
            "Epoch 35/100\n",
            "20/20 [==============================] - 3s 137ms/step - loss: 4.6990e-04 - val_loss: 0.0050\n",
            "Epoch 36/100\n",
            "20/20 [==============================] - 3s 134ms/step - loss: 4.7116e-04 - val_loss: 0.0224\n",
            "Epoch 37/100\n",
            "20/20 [==============================] - 3s 133ms/step - loss: 3.7629e-04 - val_loss: 0.0157\n",
            "Epoch 38/100\n",
            "20/20 [==============================] - 3s 135ms/step - loss: 4.0944e-04 - val_loss: 0.0102\n",
            "Epoch 39/100\n",
            "20/20 [==============================] - 3s 135ms/step - loss: 3.8552e-04 - val_loss: 0.0175\n",
            "Epoch 40/100\n",
            "20/20 [==============================] - 3s 133ms/step - loss: 4.0919e-04 - val_loss: 0.0305\n",
            "Epoch 41/100\n",
            "20/20 [==============================] - 3s 132ms/step - loss: 3.7605e-04 - val_loss: 0.0115\n",
            "Epoch 42/100\n",
            "20/20 [==============================] - 3s 137ms/step - loss: 3.4457e-04 - val_loss: 0.0209\n",
            "Epoch 43/100\n",
            "20/20 [==============================] - 3s 138ms/step - loss: 3.3715e-04 - val_loss: 0.0136\n",
            "Epoch 44/100\n",
            "20/20 [==============================] - 3s 135ms/step - loss: 4.0369e-04 - val_loss: 0.0361\n",
            "Epoch 45/100\n",
            "20/20 [==============================] - 3s 136ms/step - loss: 4.4117e-04 - val_loss: 0.0203\n",
            "Epoch 46/100\n",
            "20/20 [==============================] - 3s 136ms/step - loss: 3.3215e-04 - val_loss: 0.0181\n",
            "Epoch 47/100\n",
            "20/20 [==============================] - 3s 135ms/step - loss: 3.1493e-04 - val_loss: 0.0103\n",
            "Epoch 48/100\n",
            "20/20 [==============================] - 3s 141ms/step - loss: 3.4313e-04 - val_loss: 0.0213\n",
            "Epoch 49/100\n",
            "20/20 [==============================] - 3s 139ms/step - loss: 3.1910e-04 - val_loss: 0.0277\n",
            "Epoch 50/100\n",
            "20/20 [==============================] - 3s 137ms/step - loss: 3.9952e-04 - val_loss: 0.0138\n",
            "Epoch 51/100\n",
            "20/20 [==============================] - 3s 136ms/step - loss: 3.5696e-04 - val_loss: 0.0096\n",
            "Epoch 52/100\n",
            "20/20 [==============================] - 3s 137ms/step - loss: 3.4968e-04 - val_loss: 0.0125\n",
            "Epoch 53/100\n",
            "20/20 [==============================] - 3s 138ms/step - loss: 2.8292e-04 - val_loss: 0.0104\n",
            "Epoch 54/100\n",
            "20/20 [==============================] - 3s 134ms/step - loss: 2.9410e-04 - val_loss: 0.0223\n",
            "Epoch 55/100\n",
            "20/20 [==============================] - 3s 136ms/step - loss: 2.7768e-04 - val_loss: 0.0224\n",
            "Epoch 56/100\n",
            "20/20 [==============================] - 3s 138ms/step - loss: 2.7344e-04 - val_loss: 0.0090\n",
            "Epoch 57/100\n",
            "20/20 [==============================] - 3s 136ms/step - loss: 2.8624e-04 - val_loss: 0.0190\n",
            "Epoch 58/100\n",
            "20/20 [==============================] - 3s 138ms/step - loss: 2.5426e-04 - val_loss: 0.0227\n",
            "Epoch 59/100\n",
            "20/20 [==============================] - 3s 139ms/step - loss: 2.7324e-04 - val_loss: 0.0062\n",
            "Epoch 60/100\n",
            "20/20 [==============================] - 3s 133ms/step - loss: 2.8925e-04 - val_loss: 0.0152\n",
            "Epoch 61/100\n",
            "20/20 [==============================] - 3s 138ms/step - loss: 2.8392e-04 - val_loss: 0.0125\n",
            "Epoch 62/100\n",
            "20/20 [==============================] - 3s 131ms/step - loss: 2.7378e-04 - val_loss: 0.0115\n",
            "Epoch 63/100\n",
            "20/20 [==============================] - 3s 137ms/step - loss: 2.3924e-04 - val_loss: 0.0085\n",
            "Epoch 64/100\n",
            "20/20 [==============================] - 3s 139ms/step - loss: 2.3443e-04 - val_loss: 0.0125\n",
            "Epoch 65/100\n",
            "20/20 [==============================] - 3s 138ms/step - loss: 2.3454e-04 - val_loss: 0.0069\n",
            "Epoch 66/100\n",
            "20/20 [==============================] - 3s 137ms/step - loss: 2.5288e-04 - val_loss: 0.0081\n",
            "Epoch 67/100\n",
            "20/20 [==============================] - 3s 137ms/step - loss: 2.2117e-04 - val_loss: 0.0140\n",
            "Epoch 68/100\n",
            "20/20 [==============================] - 3s 139ms/step - loss: 2.2363e-04 - val_loss: 0.0049\n",
            "Epoch 69/100\n",
            "20/20 [==============================] - 3s 137ms/step - loss: 2.2431e-04 - val_loss: 0.0077\n",
            "Epoch 70/100\n",
            "20/20 [==============================] - 3s 138ms/step - loss: 2.2494e-04 - val_loss: 0.0133\n",
            "Epoch 71/100\n",
            "20/20 [==============================] - 3s 137ms/step - loss: 2.4202e-04 - val_loss: 0.0113\n",
            "Epoch 72/100\n",
            "20/20 [==============================] - 3s 135ms/step - loss: 2.0492e-04 - val_loss: 0.0113\n",
            "Epoch 73/100\n",
            "20/20 [==============================] - 3s 136ms/step - loss: 2.1748e-04 - val_loss: 0.0141\n",
            "Epoch 74/100\n",
            "20/20 [==============================] - 3s 135ms/step - loss: 2.1043e-04 - val_loss: 0.0064\n",
            "Epoch 75/100\n",
            "20/20 [==============================] - 3s 138ms/step - loss: 2.0406e-04 - val_loss: 0.0081\n",
            "Epoch 76/100\n",
            "20/20 [==============================] - 3s 137ms/step - loss: 1.9432e-04 - val_loss: 0.0115\n",
            "Epoch 77/100\n",
            "20/20 [==============================] - 3s 138ms/step - loss: 1.9212e-04 - val_loss: 0.0111\n",
            "Epoch 78/100\n",
            "20/20 [==============================] - 3s 135ms/step - loss: 2.2411e-04 - val_loss: 0.0097\n",
            "Epoch 79/100\n",
            "20/20 [==============================] - 3s 135ms/step - loss: 1.9155e-04 - val_loss: 0.0156\n",
            "Epoch 80/100\n",
            "20/20 [==============================] - 3s 140ms/step - loss: 1.8645e-04 - val_loss: 0.0066\n",
            "Epoch 81/100\n",
            "20/20 [==============================] - 3s 139ms/step - loss: 2.0014e-04 - val_loss: 0.0064\n",
            "Epoch 82/100\n",
            "20/20 [==============================] - 3s 138ms/step - loss: 2.0032e-04 - val_loss: 0.0100\n",
            "Epoch 83/100\n",
            "20/20 [==============================] - 3s 136ms/step - loss: 2.0230e-04 - val_loss: 0.0104\n",
            "Epoch 84/100\n",
            "20/20 [==============================] - 3s 136ms/step - loss: 1.7433e-04 - val_loss: 0.0053\n",
            "Epoch 85/100\n",
            "20/20 [==============================] - 3s 135ms/step - loss: 1.8734e-04 - val_loss: 0.0051\n",
            "Epoch 86/100\n",
            "20/20 [==============================] - 3s 135ms/step - loss: 2.0206e-04 - val_loss: 0.0062\n",
            "Epoch 87/100\n",
            "20/20 [==============================] - 3s 138ms/step - loss: 1.8629e-04 - val_loss: 0.0095\n",
            "Epoch 88/100\n",
            "20/20 [==============================] - 3s 137ms/step - loss: 1.7318e-04 - val_loss: 0.0058\n",
            "Epoch 89/100\n",
            "20/20 [==============================] - 3s 138ms/step - loss: 1.7113e-04 - val_loss: 0.0060\n",
            "Epoch 90/100\n",
            "20/20 [==============================] - 3s 138ms/step - loss: 1.8326e-04 - val_loss: 0.0100\n",
            "Epoch 91/100\n",
            "20/20 [==============================] - 3s 138ms/step - loss: 2.2704e-04 - val_loss: 0.0086\n",
            "Epoch 92/100\n",
            "20/20 [==============================] - 3s 138ms/step - loss: 1.7277e-04 - val_loss: 0.0113\n",
            "Epoch 93/100\n",
            "20/20 [==============================] - 3s 137ms/step - loss: 1.6825e-04 - val_loss: 0.0050\n",
            "Epoch 94/100\n",
            "20/20 [==============================] - 3s 137ms/step - loss: 1.6914e-04 - val_loss: 0.0072\n",
            "Epoch 95/100\n",
            "20/20 [==============================] - 3s 139ms/step - loss: 1.6282e-04 - val_loss: 0.0054\n",
            "Epoch 96/100\n",
            "20/20 [==============================] - 3s 139ms/step - loss: 1.7984e-04 - val_loss: 0.0049\n",
            "Epoch 97/100\n",
            "20/20 [==============================] - 3s 138ms/step - loss: 1.6581e-04 - val_loss: 0.0080\n",
            "Epoch 98/100\n",
            "20/20 [==============================] - 3s 136ms/step - loss: 1.7186e-04 - val_loss: 0.0038\n",
            "Epoch 99/100\n",
            "20/20 [==============================] - 3s 140ms/step - loss: 1.8262e-04 - val_loss: 0.0045\n",
            "Epoch 100/100\n",
            "20/20 [==============================] - 3s 137ms/step - loss: 1.6878e-04 - val_loss: 0.0050\n"
          ]
        },
        {
          "output_type": "execute_result",
          "data": {
            "text/plain": [
              "<keras.callbacks.History at 0x7f7a3ea94090>"
            ]
          },
          "metadata": {},
          "execution_count": 17
        }
      ]
    },
    {
      "cell_type": "code",
      "metadata": {
        "id": "D1589aYtVJGk"
      },
      "source": [
        "#Lets do the prediction and check performance metrics\n",
        "train_predict=model.predict(X_train)\n",
        "test_predict=model.predict(X_test)"
      ],
      "execution_count": null,
      "outputs": []
    },
    {
      "cell_type": "code",
      "metadata": {
        "id": "D3POiI82VWNB"
      },
      "source": [
        "#Transforming back to original form\n",
        "train_predict=scaler.inverse_transform(train_predict)\n",
        "test_predict=scaler.inverse_transform(test_predict)"
      ],
      "execution_count": null,
      "outputs": []
    },
    {
      "cell_type": "code",
      "metadata": {
        "id": "BvTyuWRAVf4U",
        "colab": {
          "base_uri": "https://localhost:8080/"
        },
        "outputId": "272d7060-82f2-40a6-889b-071da9627a5f"
      },
      "source": [
        "#Calculating RMSE performance metric\n",
        "import math\n",
        "from sklearn.metrics import mean_squared_error\n",
        "math.sqrt(mean_squared_error(y_train,train_predict))"
      ],
      "execution_count": null,
      "outputs": [
        {
          "output_type": "execute_result",
          "data": {
            "text/plain": [
              "35399.685418370376"
            ]
          },
          "metadata": {},
          "execution_count": 20
        }
      ]
    },
    {
      "cell_type": "code",
      "metadata": {
        "id": "wv0NrafcYsKr",
        "colab": {
          "base_uri": "https://localhost:8080/"
        },
        "outputId": "9cd820bb-a44d-41f5-af10-ce443bef6d3d"
      },
      "source": [
        "math.sqrt(mean_squared_error(y_test,test_predict))"
      ],
      "execution_count": null,
      "outputs": [
        {
          "output_type": "execute_result",
          "data": {
            "text/plain": [
              "54111.883912912715"
            ]
          },
          "metadata": {},
          "execution_count": 21
        }
      ]
    },
    {
      "cell_type": "code",
      "metadata": {
        "id": "v2hNBHfpWVHZ",
        "colab": {
          "base_uri": "https://localhost:8080/",
          "height": 279
        },
        "outputId": "26291086-e312-44d2-b246-b81173b81ac6"
      },
      "source": [
        "#Plotting\n",
        "#Shift train predictions for plotting\n",
        "look_back=100\n",
        "trainPredictPlot=np.empty_like(data)\n",
        "trainPredictPlot[:,:]=np.nan\n",
        "trainPredictPlot[look_back:len(train_predict)+look_back,:]=train_predict\n",
        "#shift test predictions for plotting\n",
        "testPredictPlot=np.empty_like(data)\n",
        "testPredictPlot[:,:]=np.nan\n",
        "testPredictPlot[len(train_predict)+(look_back*2)+1:len(data)-1,:]=test_predict\n",
        "#Plot baseline and predictions\n",
        "plt.plot(data)\n",
        "plt.plot(trainPredictPlot)\n",
        "plt.plot(testPredictPlot)\n",
        "plt.xlabel('Days')\n",
        "plt.ylabel('Close price')\n",
        "plt.legend(['data','train_predict','test_predict'])\n",
        "plt.show()"
      ],
      "execution_count": null,
      "outputs": [
        {
          "output_type": "display_data",
          "data": {
            "image/png": "[encoded data removed]",
            "text/plain": [
              "<Figure size 432x288 with 1 Axes>"
            ]
          },
          "metadata": {
            "needs_background": "light"
          }
        }
      ]
    },
    {
      "cell_type": "code",
      "metadata": {
        "id": "o6i4jPpqeic_",
        "colab": {
          "base_uri": "https://localhost:8080/"
        },
        "outputId": "9f8f5c62-57f0-45ca-df89-0fffa7fb8452"
      },
      "source": [
        "len(test_data)"
      ],
      "execution_count": null,
      "outputs": [
        {
          "output_type": "execute_result",
          "data": {
            "text/plain": [
              "308"
            ]
          },
          "metadata": {},
          "execution_count": 24
        }
      ]
    },
    {
      "cell_type": "code",
      "metadata": {
        "id": "i1kK-ZyPY3jL",
        "colab": {
          "base_uri": "https://localhost:8080/"
        },
        "outputId": "90966b48-43d0-482d-ab6a-1a0e85e18678"
      },
      "source": [
        "x_input1=test_data[208:].reshape(-1,1)\n",
        "x_input=x_input1.T\n",
        "x_input.shape"
      ],
      "execution_count": 36,
      "outputs": [
        {
          "output_type": "execute_result",
          "data": {
            "text/plain": [
              "(1, 100)"
            ]
          },
          "metadata": {},
          "execution_count": 36
        }
      ]
    },
    {
      "cell_type": "code",
      "metadata": {
        "id": "rfPhHBGheyLu"
      },
      "source": [
        "temp_input=list(x_input)\n",
        "temp_input=temp_input[0].tolist()"
      ],
      "execution_count": 37,
      "outputs": []
    },
    {
      "cell_type": "code",
      "metadata": {
        "id": "8q7oPpXzhDTj",
        "colab": {
          "base_uri": "https://localhost:8080/"
        },
        "outputId": "c5b62a09-df15-479f-ed99-2ed7f09d80b7"
      },
      "source": [
        "len(temp_input)"
      ],
      "execution_count": 38,
      "outputs": [
        {
          "output_type": "execute_result",
          "data": {
            "text/plain": [
              "100"
            ]
          },
          "metadata": {},
          "execution_count": 38
        }
      ]
    },
    {
      "cell_type": "code",
      "metadata": {
        "id": "D2I5IGTGzaEn"
      },
      "source": [
        "import tensorflow as tf"
      ],
      "execution_count": 39,
      "outputs": []
    },
    {
      "cell_type": "code",
      "metadata": {
        "id": "xmxrWhKI0y18",
        "colab": {
          "base_uri": "https://localhost:8080/"
        },
        "outputId": "bc52a399-8e64-4017-fd58-a78453ff6e65"
      },
      "source": [
        "#demonstrate prediction for next 30 days\n",
        "from numpy import array\n",
        "lst_output=[]\n",
        "n_steps=100\n",
        "i=0\n",
        "while (i<10):\n",
        "  if (len(temp_input)>100):\n",
        "    #temp_input\n",
        "    x_input=np.array(temp_input[1:])\n",
        "    print(\"{} day input {}\".format(i,x_input))\n",
        "    x_input=x_input.reshape(-1,1)\n",
        "    x_input=x_input.reshape((1,n_steps,1))\n",
        "    #print x_input\n",
        "    x_input=tf.convert_to_tensor(x_input)\n",
        "    yhat=model.predict(x_input,verbose=0)\n",
        "    print(\"{} day output {}\".format(i,yhat))\n",
        "    temp_input.extend(yhat[0].tolist())\n",
        "    temp_input=temp_input[1:]\n",
        "    #print temp_input\n",
        "    lst_output.extend(yhat.tolist())\n",
        "    i=i+1\n",
        "  else:\n",
        "    x_input=x_input.reshape((1,n_steps,1))\n",
        "    x_input=tf.convert_to_tensor(x_input)\n",
        "    yhat=model.predict(x_input,verbose=0)\n",
        "    print(yhat[0])\n",
        "    temp_input.extend(yhat[0].tolist())\n",
        "    print(len(temp_input))\n",
        "    lst_output.extend(yhat.tolist())\n",
        "    i=i+1\n",
        "print(lst_output)"
      ],
      "execution_count": 41,
      "outputs": [
        {
          "output_type": "stream",
          "name": "stdout",
          "text": [
            "0 day input [0.77864874 0.77386598 0.77870589 0.79022721 0.78967871 0.79532041\n",
            " 0.78116181 0.7758358  0.77544236 0.78701355 0.79092814 0.79835397\n",
            " 0.79780628 0.78070883 0.77036612 0.78898018 0.7930192  0.78941904\n",
            " 0.78144801 0.77751213 0.78361364 0.78168344 0.7922856  0.81772019\n",
            " 0.8336446  0.83723132 0.8309619  0.83460873 0.83903299 0.83819568\n",
            " 0.84746486 0.86475606 0.86899032 0.8751015  0.87035746 0.86160945\n",
            " 0.86820959 0.87996008 0.87952964 0.87967217 0.8847903  0.90708648\n",
            " 0.92639794 0.92015595 0.93514537 0.94323013 0.94809599 0.94758802\n",
            " 0.94673648 0.94833381 0.94462356 0.94664404 0.96051963 0.97270055\n",
            " 0.96904974 0.95375044 0.9687402  0.9664687  0.99438927 0.99914288\n",
            " 1.         0.988043   0.98063083 0.9722692  0.96175471 0.97730993\n",
            " 0.99029515 0.97411607 0.98834104 0.99945151 1.11772776 1.22808969\n",
            " 1.30096376 1.34422088 1.37463892 1.40443444 1.43830168 1.47592318\n",
            " 1.5153482  1.55502391 1.59429121 1.63306749 1.67141771 1.7093333\n",
            " 1.74670243 1.78336191 1.81913948 1.85388017 1.88744664 1.91972077\n",
            " 1.95060372 1.98001659 2.00790262 2.03422499 2.0589664  2.08212924\n",
            " 2.10373068 2.12380362 2.14239311 2.15955305]\n",
            "0 day output [[2.175346]]\n",
            "1 day input [0.77386598 0.77870589 0.79022721 0.78967871 0.79532041 0.78116181\n",
            " 0.7758358  0.77544236 0.78701355 0.79092814 0.79835397 0.79780628\n",
            " 0.78070883 0.77036612 0.78898018 0.7930192  0.78941904 0.78144801\n",
            " 0.77751213 0.78361364 0.78168344 0.7922856  0.81772019 0.8336446\n",
            " 0.83723132 0.8309619  0.83460873 0.83903299 0.83819568 0.84746486\n",
            " 0.86475606 0.86899032 0.8751015  0.87035746 0.86160945 0.86820959\n",
            " 0.87996008 0.87952964 0.87967217 0.8847903  0.90708648 0.92639794\n",
            " 0.92015595 0.93514537 0.94323013 0.94809599 0.94758802 0.94673648\n",
            " 0.94833381 0.94462356 0.94664404 0.96051963 0.97270055 0.96904974\n",
            " 0.95375044 0.9687402  0.9664687  0.99438927 0.99914288 1.\n",
            " 0.988043   0.98063083 0.9722692  0.96175471 0.97730993 0.99029515\n",
            " 0.97411607 0.98834104 0.99945151 1.11772776 1.22808969 1.30096376\n",
            " 1.34422088 1.37463892 1.40443444 1.43830168 1.47592318 1.5153482\n",
            " 1.55502391 1.59429121 1.63306749 1.67141771 1.7093333  1.74670243\n",
            " 1.78336191 1.81913948 1.85388017 1.88744664 1.91972077 1.95060372\n",
            " 1.98001659 2.00790262 2.03422499 2.0589664  2.08212924 2.10373068\n",
            " 2.12380362 2.14239311 2.15955305 2.1753459 ]\n",
            "1 day output [[2.1898398]]\n",
            "2 day input [0.77870589 0.79022721 0.78967871 0.79532041 0.78116181 0.7758358\n",
            " 0.77544236 0.78701355 0.79092814 0.79835397 0.79780628 0.78070883\n",
            " 0.77036612 0.78898018 0.7930192  0.78941904 0.78144801 0.77751213\n",
            " 0.78361364 0.78168344 0.7922856  0.81772019 0.8336446  0.83723132\n",
            " 0.8309619  0.83460873 0.83903299 0.83819568 0.84746486 0.86475606\n",
            " 0.86899032 0.8751015  0.87035746 0.86160945 0.86820959 0.87996008\n",
            " 0.87952964 0.87967217 0.8847903  0.90708648 0.92639794 0.92015595\n",
            " 0.93514537 0.94323013 0.94809599 0.94758802 0.94673648 0.94833381\n",
            " 0.94462356 0.94664404 0.96051963 0.97270055 0.96904974 0.95375044\n",
            " 0.9687402  0.9664687  0.99438927 0.99914288 1.         0.988043\n",
            " 0.98063083 0.9722692  0.96175471 0.97730993 0.99029515 0.97411607\n",
            " 0.98834104 0.99945151 1.11772776 1.22808969 1.30096376 1.34422088\n",
            " 1.37463892 1.40443444 1.43830168 1.47592318 1.5153482  1.55502391\n",
            " 1.59429121 1.63306749 1.67141771 1.7093333  1.74670243 1.78336191\n",
            " 1.81913948 1.85388017 1.88744664 1.91972077 1.95060372 1.98001659\n",
            " 2.00790262 2.03422499 2.0589664  2.08212924 2.10373068 2.12380362\n",
            " 2.14239311 2.15955305 2.1753459  2.18983984]\n",
            "2 day output [[2.2031069]]\n",
            "3 day input [0.79022721 0.78967871 0.79532041 0.78116181 0.7758358  0.77544236\n",
            " 0.78701355 0.79092814 0.79835397 0.79780628 0.78070883 0.77036612\n",
            " 0.78898018 0.7930192  0.78941904 0.78144801 0.77751213 0.78361364\n",
            " 0.78168344 0.7922856  0.81772019 0.8336446  0.83723132 0.8309619\n",
            " 0.83460873 0.83903299 0.83819568 0.84746486 0.86475606 0.86899032\n",
            " 0.8751015  0.87035746 0.86160945 0.86820959 0.87996008 0.87952964\n",
            " 0.87967217 0.8847903  0.90708648 0.92639794 0.92015595 0.93514537\n",
            " 0.94323013 0.94809599 0.94758802 0.94673648 0.94833381 0.94462356\n",
            " 0.94664404 0.96051963 0.97270055 0.96904974 0.95375044 0.9687402\n",
            " 0.9664687  0.99438927 0.99914288 1.         0.988043   0.98063083\n",
            " 0.9722692  0.96175471 0.97730993 0.99029515 0.97411607 0.98834104\n",
            " 0.99945151 1.11772776 1.22808969 1.30096376 1.34422088 1.37463892\n",
            " 1.40443444 1.43830168 1.47592318 1.5153482  1.55502391 1.59429121\n",
            " 1.63306749 1.67141771 1.7093333  1.74670243 1.78336191 1.81913948\n",
            " 1.85388017 1.88744664 1.91972077 1.95060372 1.98001659 2.00790262\n",
            " 2.03422499 2.0589664  2.08212924 2.10373068 2.12380362 2.14239311\n",
            " 2.15955305 2.1753459  2.18983984 2.20310688]\n",
            "3 day output [[2.215222]]\n",
            "4 day input [0.78967871 0.79532041 0.78116181 0.7758358  0.77544236 0.78701355\n",
            " 0.79092814 0.79835397 0.79780628 0.78070883 0.77036612 0.78898018\n",
            " 0.7930192  0.78941904 0.78144801 0.77751213 0.78361364 0.78168344\n",
            " 0.7922856  0.81772019 0.8336446  0.83723132 0.8309619  0.83460873\n",
            " 0.83903299 0.83819568 0.84746486 0.86475606 0.86899032 0.8751015\n",
            " 0.87035746 0.86160945 0.86820959 0.87996008 0.87952964 0.87967217\n",
            " 0.8847903  0.90708648 0.92639794 0.92015595 0.93514537 0.94323013\n",
            " 0.94809599 0.94758802 0.94673648 0.94833381 0.94462356 0.94664404\n",
            " 0.96051963 0.97270055 0.96904974 0.95375044 0.9687402  0.9664687\n",
            " 0.99438927 0.99914288 1.         0.988043   0.98063083 0.9722692\n",
            " 0.96175471 0.97730993 0.99029515 0.97411607 0.98834104 0.99945151\n",
            " 1.11772776 1.22808969 1.30096376 1.34422088 1.37463892 1.40443444\n",
            " 1.43830168 1.47592318 1.5153482  1.55502391 1.59429121 1.63306749\n",
            " 1.67141771 1.7093333  1.74670243 1.78336191 1.81913948 1.85388017\n",
            " 1.88744664 1.91972077 1.95060372 1.98001659 2.00790262 2.03422499\n",
            " 2.0589664  2.08212924 2.10373068 2.12380362 2.14239311 2.15955305\n",
            " 2.1753459  2.18983984 2.20310688 2.21522188]\n",
            "4 day output [[2.226258]]\n",
            "5 day input [0.79532041 0.78116181 0.7758358  0.77544236 0.78701355 0.79092814\n",
            " 0.79835397 0.79780628 0.78070883 0.77036612 0.78898018 0.7930192\n",
            " 0.78941904 0.78144801 0.77751213 0.78361364 0.78168344 0.7922856\n",
            " 0.81772019 0.8336446  0.83723132 0.8309619  0.83460873 0.83903299\n",
            " 0.83819568 0.84746486 0.86475606 0.86899032 0.8751015  0.87035746\n",
            " 0.86160945 0.86820959 0.87996008 0.87952964 0.87967217 0.8847903\n",
            " 0.90708648 0.92639794 0.92015595 0.93514537 0.94323013 0.94809599\n",
            " 0.94758802 0.94673648 0.94833381 0.94462356 0.94664404 0.96051963\n",
            " 0.97270055 0.96904974 0.95375044 0.9687402  0.9664687  0.99438927\n",
            " 0.99914288 1.         0.988043   0.98063083 0.9722692  0.96175471\n",
            " 0.97730993 0.99029515 0.97411607 0.98834104 0.99945151 1.11772776\n",
            " 1.22808969 1.30096376 1.34422088 1.37463892 1.40443444 1.43830168\n",
            " 1.47592318 1.5153482  1.55502391 1.59429121 1.63306749 1.67141771\n",
            " 1.7093333  1.74670243 1.78336191 1.81913948 1.85388017 1.88744664\n",
            " 1.91972077 1.95060372 1.98001659 2.00790262 2.03422499 2.0589664\n",
            " 2.08212924 2.10373068 2.12380362 2.14239311 2.15955305 2.1753459\n",
            " 2.18983984 2.20310688 2.21522188 2.22625804]\n",
            "5 day output [[2.2362914]]\n",
            "6 day input [0.78116181 0.7758358  0.77544236 0.78701355 0.79092814 0.79835397\n",
            " 0.79780628 0.78070883 0.77036612 0.78898018 0.7930192  0.78941904\n",
            " 0.78144801 0.77751213 0.78361364 0.78168344 0.7922856  0.81772019\n",
            " 0.8336446  0.83723132 0.8309619  0.83460873 0.83903299 0.83819568\n",
            " 0.84746486 0.86475606 0.86899032 0.8751015  0.87035746 0.86160945\n",
            " 0.86820959 0.87996008 0.87952964 0.87967217 0.8847903  0.90708648\n",
            " 0.92639794 0.92015595 0.93514537 0.94323013 0.94809599 0.94758802\n",
            " 0.94673648 0.94833381 0.94462356 0.94664404 0.96051963 0.97270055\n",
            " 0.96904974 0.95375044 0.9687402  0.9664687  0.99438927 0.99914288\n",
            " 1.         0.988043   0.98063083 0.9722692  0.96175471 0.97730993\n",
            " 0.99029515 0.97411607 0.98834104 0.99945151 1.11772776 1.22808969\n",
            " 1.30096376 1.34422088 1.37463892 1.40443444 1.43830168 1.47592318\n",
            " 1.5153482  1.55502391 1.59429121 1.63306749 1.67141771 1.7093333\n",
            " 1.74670243 1.78336191 1.81913948 1.85388017 1.88744664 1.91972077\n",
            " 1.95060372 1.98001659 2.00790262 2.03422499 2.0589664  2.08212924\n",
            " 2.10373068 2.12380362 2.14239311 2.15955305 2.1753459  2.18983984\n",
            " 2.20310688 2.21522188 2.22625804 2.23629141]\n",
            "6 day output [[2.2453947]]\n",
            "7 day input [0.7758358  0.77544236 0.78701355 0.79092814 0.79835397 0.79780628\n",
            " 0.78070883 0.77036612 0.78898018 0.7930192  0.78941904 0.78144801\n",
            " 0.77751213 0.78361364 0.78168344 0.7922856  0.81772019 0.8336446\n",
            " 0.83723132 0.8309619  0.83460873 0.83903299 0.83819568 0.84746486\n",
            " 0.86475606 0.86899032 0.8751015  0.87035746 0.86160945 0.86820959\n",
            " 0.87996008 0.87952964 0.87967217 0.8847903  0.90708648 0.92639794\n",
            " 0.92015595 0.93514537 0.94323013 0.94809599 0.94758802 0.94673648\n",
            " 0.94833381 0.94462356 0.94664404 0.96051963 0.97270055 0.96904974\n",
            " 0.95375044 0.9687402  0.9664687  0.99438927 0.99914288 1.\n",
            " 0.988043   0.98063083 0.9722692  0.96175471 0.97730993 0.99029515\n",
            " 0.97411607 0.98834104 0.99945151 1.11772776 1.22808969 1.30096376\n",
            " 1.34422088 1.37463892 1.40443444 1.43830168 1.47592318 1.5153482\n",
            " 1.55502391 1.59429121 1.63306749 1.67141771 1.7093333  1.74670243\n",
            " 1.78336191 1.81913948 1.85388017 1.88744664 1.91972077 1.95060372\n",
            " 1.98001659 2.00790262 2.03422499 2.0589664  2.08212924 2.10373068\n",
            " 2.12380362 2.14239311 2.15955305 2.1753459  2.18983984 2.20310688\n",
            " 2.21522188 2.22625804 2.23629141 2.24539471]\n",
            "7 day output [[2.2536383]]\n",
            "8 day input [0.77544236 0.78701355 0.79092814 0.79835397 0.79780628 0.78070883\n",
            " 0.77036612 0.78898018 0.7930192  0.78941904 0.78144801 0.77751213\n",
            " 0.78361364 0.78168344 0.7922856  0.81772019 0.8336446  0.83723132\n",
            " 0.8309619  0.83460873 0.83903299 0.83819568 0.84746486 0.86475606\n",
            " 0.86899032 0.8751015  0.87035746 0.86160945 0.86820959 0.87996008\n",
            " 0.87952964 0.87967217 0.8847903  0.90708648 0.92639794 0.92015595\n",
            " 0.93514537 0.94323013 0.94809599 0.94758802 0.94673648 0.94833381\n",
            " 0.94462356 0.94664404 0.96051963 0.97270055 0.96904974 0.95375044\n",
            " 0.9687402  0.9664687  0.99438927 0.99914288 1.         0.988043\n",
            " 0.98063083 0.9722692  0.96175471 0.97730993 0.99029515 0.97411607\n",
            " 0.98834104 0.99945151 1.11772776 1.22808969 1.30096376 1.34422088\n",
            " 1.37463892 1.40443444 1.43830168 1.47592318 1.5153482  1.55502391\n",
            " 1.59429121 1.63306749 1.67141771 1.7093333  1.74670243 1.78336191\n",
            " 1.81913948 1.85388017 1.88744664 1.91972077 1.95060372 1.98001659\n",
            " 2.00790262 2.03422499 2.0589664  2.08212924 2.10373068 2.12380362\n",
            " 2.14239311 2.15955305 2.1753459  2.18983984 2.20310688 2.21522188\n",
            " 2.22625804 2.23629141 2.24539471 2.25363827]\n",
            "8 day output [[2.2610898]]\n",
            "9 day input [0.78701355 0.79092814 0.79835397 0.79780628 0.78070883 0.77036612\n",
            " 0.78898018 0.7930192  0.78941904 0.78144801 0.77751213 0.78361364\n",
            " 0.78168344 0.7922856  0.81772019 0.8336446  0.83723132 0.8309619\n",
            " 0.83460873 0.83903299 0.83819568 0.84746486 0.86475606 0.86899032\n",
            " 0.8751015  0.87035746 0.86160945 0.86820959 0.87996008 0.87952964\n",
            " 0.87967217 0.8847903  0.90708648 0.92639794 0.92015595 0.93514537\n",
            " 0.94323013 0.94809599 0.94758802 0.94673648 0.94833381 0.94462356\n",
            " 0.94664404 0.96051963 0.97270055 0.96904974 0.95375044 0.9687402\n",
            " 0.9664687  0.99438927 0.99914288 1.         0.988043   0.98063083\n",
            " 0.9722692  0.96175471 0.97730993 0.99029515 0.97411607 0.98834104\n",
            " 0.99945151 1.11772776 1.22808969 1.30096376 1.34422088 1.37463892\n",
            " 1.40443444 1.43830168 1.47592318 1.5153482  1.55502391 1.59429121\n",
            " 1.63306749 1.67141771 1.7093333  1.74670243 1.78336191 1.81913948\n",
            " 1.85388017 1.88744664 1.91972077 1.95060372 1.98001659 2.00790262\n",
            " 2.03422499 2.0589664  2.08212924 2.10373068 2.12380362 2.14239311\n",
            " 2.15955305 2.1753459  2.18983984 2.20310688 2.21522188 2.22625804\n",
            " 2.23629141 2.24539471 2.25363827 2.2610898 ]\n",
            "9 day output [[2.267815]]\n",
            "[[2.1753458976745605], [2.1898398399353027], [2.2031068801879883], [2.215221881866455], [2.2262580394744873], [2.2362914085388184], [2.245394706726074], [2.25363826751709], [2.26108980178833], [2.267815113067627]]\n"
          ]
        }
      ]
    },
    {
      "cell_type": "code",
      "metadata": {
        "id": "62dzeUAU35RS"
      },
      "source": [
        "day_new=np.arange(1,101)\n",
        "day_pred=np.arange(101,111)\n"
      ],
      "execution_count": 42,
      "outputs": []
    },
    {
      "cell_type": "code",
      "metadata": {
        "id": "cxIeNH59iV_H"
      },
      "source": [
        "import matplotlib.pyplot as plt\n"
      ],
      "execution_count": 32,
      "outputs": []
    },
    {
      "cell_type": "code",
      "metadata": {
        "id": "7h2b1Dojid1o",
        "colab": {
          "base_uri": "https://localhost:8080/"
        },
        "outputId": "3fd639b4-7140-46be-de15-ff2ed0b22d17"
      },
      "source": [
        "len(data)"
      ],
      "execution_count": 43,
      "outputs": [
        {
          "output_type": "execute_result",
          "data": {
            "text/plain": [
              "1229"
            ]
          },
          "metadata": {},
          "execution_count": 43
        }
      ]
    },
    {
      "cell_type": "code",
      "metadata": {
        "id": "pA61LeLZi1Q7"
      },
      "source": [
        "df=data.tolist()\n",
        "df.extend(lst_output)\n"
      ],
      "execution_count": 45,
      "outputs": []
    },
    {
      "cell_type": "code",
      "metadata": {
        "id": "Jl3oV5oCjDpd",
        "colab": {
          "base_uri": "https://localhost:8080/",
          "height": 282
        },
        "outputId": "c4452d38-d7f8-458c-d148-3d95dbc3ca49"
      },
      "source": [
        "plt.plot(day_new,scaler.inverse_transform(data[1129:]))\n",
        "plt.plot(day_pred,scaler.inverse_transform(lst_output))\n",
        "#plt.xlabel('Days')\n",
        "#plt.ylabel('Close price')\n",
        "#plt.legend(['day_new','day_pred(future 30 days)'])\n",
        "#plt.show()"
      ],
      "execution_count": 48,
      "outputs": [
        {
          "output_type": "execute_result",
          "data": {
            "text/plain": [
              "[<matplotlib.lines.Line2D at 0x7f7a3b51f090>]"
            ]
          },
          "metadata": {},
          "execution_count": 48
        },
        {
          "output_type": "display_data",
          "data": {
            "image/png": "[encoded data removed]",
            "text/plain": [
              "<Figure size 432x288 with 1 Axes>"
            ]
          },
          "metadata": {
            "needs_background": "light"
          }
        }
      ]
    },
    {
      "cell_type": "code",
      "metadata": {
        "id": "rrDIeb4ejch9",
        "colab": {
          "base_uri": "https://localhost:8080/",
          "height": 296
        },
        "outputId": "a98032ea-4c04-4a5b-92d3-247f0dafdda6"
      },
      "source": [
        "\n",
        "plt.plot(df[1000:])\n",
        "plt.xlabel('Days')\n",
        "plt.ylabel('Close price')"
      ],
      "execution_count": 50,
      "outputs": [
        {
          "output_type": "execute_result",
          "data": {
            "text/plain": [
              "Text(0, 0.5, 'Close price')"
            ]
          },
          "metadata": {},
          "execution_count": 50
        },
        {
          "output_type": "display_data",
          "data": {
            "image/png": "[encoded data removed]",
            "text/plain": [
              "<Figure size 432x288 with 1 Axes>"
            ]
          },
          "metadata": {
            "needs_background": "light"
          }
        }
      ]
    },
    {
      "cell_type": "code",
      "metadata": {
        "id": "j5Ucy7e_kMC-"
      },
      "source": [
        "#to improve this model, instead of 100 try using 150 timesteps or forecast 100 days into the future."
      ],
      "execution_count": null,
      "outputs": []
    },
    {
      "cell_type": "code",
      "metadata": {
        "id": "e4HHwO3G7FyL",
        "colab": {
          "base_uri": "https://localhost:8080/"
        },
        "outputId": "863519a3-39b8-4858-c63d-8899dc7d4a9f"
      },
      "source": [
        "#close price of 10 days in future\n",
        "day_pred"
      ],
      "execution_count": 49,
      "outputs": [
        {
          "output_type": "execute_result",
          "data": {
            "text/plain": [
              "array([101, 102, 103, 104, 105, 106, 107, 108, 109, 110])"
            ]
          },
          "metadata": {},
          "execution_count": 49
        }
      ]
    }
  ]
}